{
 "cells": [
  {
   "cell_type": "code",
   "execution_count": 1,
   "metadata": {},
   "outputs": [],
   "source": [
    "import tqdm, tqdm.notebook\n",
    "tqdm.tqdm = tqdm.notebook.tqdm\n",
    "from pathlib import Path\n",
    "import pycolmap\n",
    "import os\n",
    "\n",
    "from hloc import extract_features, match_features, reconstruction, visualization, pairs_from_exhaustive, pairs_from_retrieval\n",
    "from hloc.visualization import plot_images, read_image\n",
    "from hloc.utils import viz_3d"
   ]
  },
  {
   "cell_type": "code",
   "execution_count": 2,
   "metadata": {},
   "outputs": [],
   "source": [
    "name = 'town'\n",
    "images = Path(f'data/{name}') # 图片的路径\n",
    "db_images = images / 'db'\n",
    "query_images = images / 'query'\n",
    "outputs = Path(f'outputs/town_retrieval/') # 输出的路径\n",
    "sfm_pairs = outputs / 'pairs-netvlad.txt' # sfm的配对文件\n",
    "loc_pairs = outputs / 'pairs-loc.txt' # loc的配对文件\n",
    "sfm_dir = outputs / 'sfm'\n",
    "\n",
    "feature_conf = extract_features.confs['disk']\n",
    "matcher_conf = match_features.confs['disk+lightglue']\n",
    "\n",
    "retrieval_conf = extract_features.confs['netvlad']  # global descriptors\n",
    "\n",
    "retrieval_path = outputs / 'global-feats-netvald.h5'\n",
    "feature_path = outputs / 'features-disk.h5'\n",
    "match_path = outputs / 'feature-disk_matches-disk-lightglue_pairs-netvlad.h5'"
   ]
  },
  {
   "cell_type": "code",
   "execution_count": 4,
   "metadata": {},
   "outputs": [
    {
     "name": "stdout",
     "output_type": "stream",
     "text": [
      "['db/img58.jpg', 'db/img69.jpg', 'db/img37.jpg', 'db/img33.jpg', 'db/img49.jpg', 'db/img38.jpg', 'db/img1.jpg', 'db/img30.jpg', 'db/img71.jpg', 'db/img53.jpg', 'db/img27.jpg', 'db/img57.jpg', 'db/img36.jpg', 'db/img68.jpg', 'db/img0.jpg', 'db/img67.jpg', 'db/img29.jpg', 'db/img5.jpg', 'db/img6.jpg', 'db/img52.jpg', 'db/img24.jpg', 'db/img47.jpg', 'db/img51.jpg', 'db/img39.jpg', 'db/img65.jpg', 'db/img50.jpg', 'db/img21.jpg', 'db/img70.jpg', 'db/img11.jpg', 'db/img12.jpg', 'db/img45.jpg', 'db/img64.jpg', 'db/img13.jpg', 'db/img10.jpg', 'db/img23.jpg', 'db/img66.jpg', 'db/img42.jpg', 'db/img44.jpg', 'db/img62.jpg', 'db/img61.jpg', 'db/img34.jpg', 'db/img14.jpg', 'db/img63.jpg', 'db/img22.jpg', 'db/img25.jpg', 'db/img3.jpg', 'db/img15.jpg', 'db/img2.jpg', 'db/img19.jpg', 'db/img46.jpg', 'db/img16.jpg', 'db/img9.jpg', 'db/img55.jpg', 'db/img35.jpg', 'db/img54.jpg', 'db/img26.jpg', 'db/img28.jpg', 'db/img31.jpg', 'db/img41.jpg', 'db/img8.jpg', 'db/img59.jpg', 'db/img60.jpg', 'db/img4.jpg', 'db/img43.jpg', 'db/img20.jpg', 'db/img18.jpg']\n",
      "66\n"
     ]
    }
   ],
   "source": [
    "db_image_list = [p.relative_to(images).as_posix() for p in (db_images).iterdir()]\n",
    "print(db_image_list)\n",
    "print(len(db_image_list))"
   ]
  },
  {
   "cell_type": "code",
   "execution_count": 5,
   "metadata": {},
   "outputs": [
    {
     "name": "stderr",
     "output_type": "stream",
     "text": [
      "[2024/12/22 12:49:06 hloc INFO] Extracting local features with configuration:\n",
      "{'model': {'name': 'netvlad'},\n",
      " 'output': 'global-feats-netvlad',\n",
      " 'preprocessing': {'resize_max': 1024}}\n"
     ]
    },
    {
     "data": {
      "application/vnd.jupyter.widget-view+json": {
       "model_id": "08085d9bfb614f8b9bf4fbde7e161657",
       "version_major": 2,
       "version_minor": 0
      },
      "text/plain": [
       "  0%|          | 0/66 [00:00<?, ?it/s]"
      ]
     },
     "metadata": {},
     "output_type": "display_data"
    },
    {
     "name": "stderr",
     "output_type": "stream",
     "text": [
      "[2024/12/22 12:49:16 hloc INFO] Finished exporting features.\n",
      "[2024/12/22 12:49:16 hloc INFO] Extracting image pairs from a retrieval database.\n",
      "[2024/12/22 12:49:16 hloc INFO] Found 330 pairs.\n"
     ]
    },
    {
     "name": "stdout",
     "output_type": "stream",
     "text": [
      "True\n"
     ]
    }
   ],
   "source": [
    "retrieval_path = extract_features.main(\n",
    "    retrieval_conf, \n",
    "    images, \n",
    "    outputs, \n",
    "    image_list=db_image_list, \n",
    "    overwrite=False # 表示在h5内提取过的特征是否重新提取\n",
    "    )\n",
    "pairs_from_retrieval.main(retrieval_path, sfm_pairs, num_matched=5)"
   ]
  },
  {
   "cell_type": "code",
   "execution_count": 6,
   "metadata": {},
   "outputs": [
    {
     "name": "stderr",
     "output_type": "stream",
     "text": [
      "[2024/12/22 12:49:24 hloc INFO] Extracting local features with configuration:\n",
      "{'model': {'max_keypoints': 5000, 'name': 'disk'},\n",
      " 'output': 'feats-disk',\n",
      " 'preprocessing': {'grayscale': False, 'resize_max': 800}}\n"
     ]
    },
    {
     "data": {
      "application/vnd.jupyter.widget-view+json": {
       "model_id": "c43d3d11088d4a9aab104462eb8db0b5",
       "version_major": 2,
       "version_minor": 0
      },
      "text/plain": [
       "  0%|          | 0/66 [00:00<?, ?it/s]"
      ]
     },
     "metadata": {},
     "output_type": "display_data"
    },
    {
     "name": "stderr",
     "output_type": "stream",
     "text": [
      "[2024/12/22 12:49:27 hloc INFO] Finished exporting features.\n"
     ]
    }
   ],
   "source": [
    "# get local descriptors\n",
    "feature_path = extract_features.main(feature_conf, images, outputs, image_list=db_image_list, overwrite=True)"
   ]
  },
  {
   "cell_type": "code",
   "execution_count": 7,
   "metadata": {},
   "outputs": [
    {
     "name": "stderr",
     "output_type": "stream",
     "text": [
      "[2024/12/22 12:49:29 hloc INFO] Matching local features with configuration:\n",
      "{'model': {'features': 'disk', 'name': 'lightglue'},\n",
      " 'output': 'matches-disk-lightglue'}\n",
      "/home/ps/.conda/envs/hloc/lib/python3.8/site-packages/lightglue/lightglue.py:143: UserWarning: FlashAttention is not available. For optimal speed, consider installing torch >= 2.0 or flash-attn.\n",
      "  self.inner_attn = Attention(flash)\n"
     ]
    },
    {
     "data": {
      "application/vnd.jupyter.widget-view+json": {
       "model_id": "a6043d6b9be64f4eb6c568d03ed2737b",
       "version_major": 2,
       "version_minor": 0
      },
      "text/plain": [
       "  0%|          | 0/199 [00:00<?, ?it/s]"
      ]
     },
     "metadata": {},
     "output_type": "display_data"
    },
    {
     "name": "stderr",
     "output_type": "stream",
     "text": [
      "[2024/12/22 12:49:50 hloc INFO] Finished exporting matches.\n"
     ]
    }
   ],
   "source": [
    "match_path = match_features.main(matcher_conf, sfm_pairs, feature_conf[\"output\"], outputs)"
   ]
  },
  {
   "cell_type": "code",
   "execution_count": 8,
   "metadata": {},
   "outputs": [
    {
     "name": "stderr",
     "output_type": "stream",
     "text": [
      "[2024/12/22 12:49:53 hloc INFO] Creating an empty database...\n",
      "[2024/12/22 12:49:53 hloc INFO] Importing images into the database...\n",
      "[2024/12/22 12:49:53 hloc INFO] Importing features into the database...\n"
     ]
    },
    {
     "data": {
      "application/vnd.jupyter.widget-view+json": {
       "model_id": "1abbca909605416cab8927661df4ad21",
       "version_major": 2,
       "version_minor": 0
      },
      "text/plain": [
       "  0%|          | 0/66 [00:00<?, ?it/s]"
      ]
     },
     "metadata": {},
     "output_type": "display_data"
    },
    {
     "name": "stderr",
     "output_type": "stream",
     "text": [
      "[2024/12/22 12:49:53 hloc INFO] Importing matches into the database...\n"
     ]
    },
    {
     "data": {
      "application/vnd.jupyter.widget-view+json": {
       "model_id": "a74b9efdf80847708e911e7e41491dbb",
       "version_major": 2,
       "version_minor": 0
      },
      "text/plain": [
       "  0%|          | 0/330 [00:00<?, ?it/s]"
      ]
     },
     "metadata": {},
     "output_type": "display_data"
    },
    {
     "name": "stderr",
     "output_type": "stream",
     "text": [
      "[2024/12/22 12:49:53 hloc INFO] Performing geometric verification of the matches...\n",
      "I20241222 12:49:53.895134 140425746122496 misc.cc:198] \n",
      "==============================================================================\n",
      "Feature matching\n",
      "==============================================================================\n",
      "I20241222 12:49:53.895303 140424739518208 sift.cc:1457] Creating SIFT CPU feature matcher\n",
      "I20241222 12:49:53.895315 140425037842176 sift.cc:1457] Creating SIFT CPU feature matcher\n",
      "I20241222 12:49:53.895330 140425138521856 sift.cc:1457] Creating SIFT CPU feature matcher\n",
      "I20241222 12:49:53.895349 140425704175360 sift.cc:1457] Creating SIFT CPU feature matcher\n",
      "I20241222 12:49:53.895375 140425662228224 sift.cc:1457] Creating SIFT CPU feature matcher\n",
      "I20241222 12:49:53.895389 140425620281088 sift.cc:1457] Creating SIFT CPU feature matcher\n",
      "I20241222 12:49:53.895393 140425578333952 sift.cc:1457] Creating SIFT CPU feature matcher\n",
      "I20241222 12:49:53.895411 140425264363264 sift.cc:1457] Creating SIFT CPU feature matcher\n",
      "I20241222 12:49:53.895432 140425222416128 sift.cc:1457] Creating SIFT CPU feature matcher\n",
      "I20241222 12:49:53.895435 140425180468992 sift.cc:1457] Creating SIFT CPU feature matcher\n",
      "I20241222 12:49:53.895481 140425096574720 sift.cc:1457] Creating SIFT CPU feature matcher\n",
      "I20241222 12:49:53.895489 140425088182016 sift.cc:1457] Creating SIFT CPU feature matcher\n",
      "I20241222 12:49:53.895516 140425046234880 sift.cc:1457] Creating SIFT CPU feature matcher\n",
      "I20241222 12:49:53.895527 140424707483392 sift.cc:1457] Creating SIFT CPU feature matcher\n",
      "I20241222 12:49:53.895550 140424492611328 sift.cc:1457] Creating SIFT CPU feature matcher\n",
      "I20241222 12:49:53.895557 140424484218624 sift.cc:1457] Creating SIFT CPU feature matcher\n",
      "I20241222 12:49:53.895851 140425746122496 pairing.cc:649] Importing image pairs...\n",
      "I20241222 12:49:53.896158 140425746122496 pairing.cc:685] Matching block [1/1]\n",
      "I20241222 12:49:54.229595 140425746122496 feature_matching.cc:46]  in 0.333s\n",
      "I20241222 12:49:54.237584 140425746122496 timer.cc:91] Elapsed time: 0.006 [minutes]\n",
      "[2024/12/22 12:49:54 hloc INFO] Running 3D reconstruction...\n",
      "I20241222 12:49:54.255015 140429661689536 incremental_mapper.cc:225] Loading database\n",
      "I20241222 12:49:54.255482 140429661689536 database_cache.cc:65] Loading cameras...\n",
      "I20241222 12:49:54.255513 140429661689536 database_cache.cc:75]  66 in 0.000s\n",
      "I20241222 12:49:54.255519 140429661689536 database_cache.cc:83] Loading matches...\n",
      "I20241222 12:49:54.256608 140429661689536 database_cache.cc:89]  199 in 0.001s\n",
      "I20241222 12:49:54.256614 140429661689536 database_cache.cc:105] Loading images...\n",
      "I20241222 12:49:54.259929 140429661689536 database_cache.cc:155]  66 in 0.003s (connected 66)\n",
      "I20241222 12:49:54.259945 140429661689536 database_cache.cc:166] Building correspondence graph...\n",
      "I20241222 12:49:54.286240 140429661689536 database_cache.cc:195]  in 0.026s (ignored 0)\n",
      "I20241222 12:49:54.286285 140429661689536 timer.cc:91] Elapsed time: 0.001 [minutes]\n",
      "I20241222 12:49:54.287609 140429661689536 incremental_mapper.cc:265] Finding good initial image pair\n",
      "I20241222 12:49:55.384203 140429661689536 incremental_mapper.cc:289] Initializing with image pair #54 and #61\n",
      "I20241222 12:49:55.386089 140429661689536 incremental_mapper.cc:294] Global bundle adjustment\n",
      "I20241222 12:49:55.582104 140429661689536 incremental_mapper.cc:375] Registering image #60 (3)\n",
      "I20241222 12:49:55.582123 140429661689536 incremental_mapper.cc:378] => Image sees 730 / 3776 points\n",
      "I20241222 12:49:56.144085 140429661689536 incremental_mapper.cc:41] Retriangulation and Global bundle adjustment\n",
      "I20241222 12:49:56.833316 140429661689536 incremental_mapper.cc:375] Registering image #59 (4)\n",
      "I20241222 12:49:56.833332 140429661689536 incremental_mapper.cc:378] => Image sees 2500 / 3656 points\n",
      "I20241222 12:49:57.428782 140429661689536 incremental_mapper.cc:41] Retriangulation and Global bundle adjustment\n",
      "I20241222 12:49:57.772313 140429661689536 incremental_mapper.cc:375] Registering image #53 (5)\n",
      "I20241222 12:49:57.772333 140429661689536 incremental_mapper.cc:378] => Image sees 2865 / 4245 points\n",
      "I20241222 12:49:58.515175 140429661689536 incremental_mapper.cc:41] Retriangulation and Global bundle adjustment\n",
      "I20241222 12:49:59.337510 140429661689536 incremental_mapper.cc:375] Registering image #47 (6)\n",
      "I20241222 12:49:59.337529 140429661689536 incremental_mapper.cc:378] => Image sees 2318 / 4549 points\n",
      "I20241222 12:50:00.820947 140429661689536 incremental_mapper.cc:41] Retriangulation and Global bundle adjustment\n",
      "I20241222 12:50:01.212108 140429661689536 incremental_mapper.cc:375] Registering image #48 (7)\n",
      "I20241222 12:50:01.212125 140429661689536 incremental_mapper.cc:378] => Image sees 2690 / 4492 points\n",
      "I20241222 12:50:02.185084 140429661689536 incremental_mapper.cc:41] Retriangulation and Global bundle adjustment\n",
      "I20241222 12:50:02.625380 140429661689536 incremental_mapper.cc:375] Registering image #55 (8)\n",
      "I20241222 12:50:02.625400 140429661689536 incremental_mapper.cc:378] => Image sees 1975 / 3866 points\n",
      "I20241222 12:50:03.408432 140429661689536 incremental_mapper.cc:41] Retriangulation and Global bundle adjustment\n",
      "I20241222 12:50:04.076799 140429661689536 incremental_mapper.cc:375] Registering image #56 (9)\n",
      "I20241222 12:50:04.076817 140429661689536 incremental_mapper.cc:378] => Image sees 1617 / 4519 points\n",
      "I20241222 12:50:04.517342 140429661689536 incremental_mapper.cc:41] Retriangulation and Global bundle adjustment\n",
      "I20241222 12:50:04.804105 140429661689536 incremental_mapper.cc:375] Registering image #49 (10)\n",
      "I20241222 12:50:04.804126 140429661689536 incremental_mapper.cc:378] => Image sees 1794 / 4065 points\n",
      "I20241222 12:50:05.643923 140429661689536 incremental_mapper.cc:41] Retriangulation and Global bundle adjustment\n",
      "I20241222 12:50:05.896164 140429661689536 incremental_mapper.cc:375] Registering image #62 (11)\n",
      "I20241222 12:50:05.896185 140429661689536 incremental_mapper.cc:378] => Image sees 2186 / 4200 points\n",
      "I20241222 12:50:06.825935 140429661689536 incremental_mapper.cc:41] Retriangulation and Global bundle adjustment\n",
      "I20241222 12:50:07.122429 140429661689536 incremental_mapper.cc:375] Registering image #57 (12)\n",
      "I20241222 12:50:07.122448 140429661689536 incremental_mapper.cc:378] => Image sees 2315 / 4826 points\n",
      "I20241222 12:50:07.743889 140429661689536 incremental_mapper.cc:375] Registering image #50 (13)\n",
      "I20241222 12:50:07.743908 140429661689536 incremental_mapper.cc:378] => Image sees 2514 / 4524 points\n",
      "I20241222 12:50:08.802301 140429661689536 incremental_mapper.cc:41] Retriangulation and Global bundle adjustment\n",
      "I20241222 12:50:09.111853 140429661689536 incremental_mapper.cc:375] Registering image #63 (14)\n",
      "I20241222 12:50:09.111876 140429661689536 incremental_mapper.cc:378] => Image sees 2917 / 4728 points\n",
      "I20241222 12:50:10.359868 140429661689536 incremental_mapper.cc:41] Retriangulation and Global bundle adjustment\n",
      "I20241222 12:50:10.743245 140429661689536 incremental_mapper.cc:375] Registering image #58 (15)\n",
      "I20241222 12:50:10.743264 140429661689536 incremental_mapper.cc:378] => Image sees 3743 / 4786 points\n",
      "I20241222 12:50:11.456493 140429661689536 incremental_mapper.cc:375] Registering image #64 (16)\n",
      "I20241222 12:50:11.456513 140429661689536 incremental_mapper.cc:378] => Image sees 3597 / 4421 points\n",
      "I20241222 12:50:12.283447 140429661689536 incremental_mapper.cc:41] Retriangulation and Global bundle adjustment\n",
      "I20241222 12:50:12.733619 140429661689536 incremental_mapper.cc:375] Registering image #51 (17)\n",
      "I20241222 12:50:12.733638 140429661689536 incremental_mapper.cc:378] => Image sees 3877 / 4619 points\n",
      "I20241222 12:50:13.310609 140429661689536 incremental_mapper.cc:375] Registering image #46 (18)\n",
      "I20241222 12:50:13.310629 140429661689536 incremental_mapper.cc:378] => Image sees 2777 / 3815 points\n",
      "I20241222 12:50:13.986993 140429661689536 incremental_mapper.cc:41] Retriangulation and Global bundle adjustment\n",
      "I20241222 12:50:14.449782 140429661689536 incremental_mapper.cc:375] Registering image #45 (19)\n",
      "I20241222 12:50:14.449800 140429661689536 incremental_mapper.cc:378] => Image sees 3016 / 3802 points\n",
      "I20241222 12:50:15.043715 140429661689536 incremental_mapper.cc:375] Registering image #44 (20)\n",
      "I20241222 12:50:15.043736 140429661689536 incremental_mapper.cc:378] => Image sees 2893 / 3827 points\n",
      "I20241222 12:50:15.643799 140429661689536 incremental_mapper.cc:41] Retriangulation and Global bundle adjustment\n",
      "I20241222 12:50:16.157903 140429661689536 incremental_mapper.cc:375] Registering image #40 (21)\n",
      "I20241222 12:50:16.157922 140429661689536 incremental_mapper.cc:378] => Image sees 2487 / 3647 points\n",
      "I20241222 12:50:16.622411 140429661689536 incremental_mapper.cc:375] Registering image #39 (22)\n",
      "I20241222 12:50:16.622431 140429661689536 incremental_mapper.cc:378] => Image sees 2626 / 3683 points\n",
      "I20241222 12:50:17.098166 140429661689536 incremental_mapper.cc:41] Retriangulation and Global bundle adjustment\n",
      "I20241222 12:50:17.656876 140429661689536 incremental_mapper.cc:375] Registering image #34 (23)\n",
      "I20241222 12:50:17.656896 140429661689536 incremental_mapper.cc:378] => Image sees 2431 / 3486 points\n",
      "I20241222 12:50:18.033677 140429661689536 incremental_mapper.cc:375] Registering image #38 (24)\n",
      "I20241222 12:50:18.033697 140429661689536 incremental_mapper.cc:378] => Image sees 2499 / 3912 points\n",
      "I20241222 12:50:18.623462 140429661689536 incremental_mapper.cc:375] Registering image #43 (25)\n",
      "I20241222 12:50:18.623482 140429661689536 incremental_mapper.cc:378] => Image sees 2281 / 3103 points\n",
      "I20241222 12:50:19.110260 140429661689536 incremental_mapper.cc:41] Retriangulation and Global bundle adjustment\n",
      "I20241222 12:50:19.736073 140429661689536 incremental_mapper.cc:375] Registering image #32 (26)\n",
      "I20241222 12:50:19.736093 140429661689536 incremental_mapper.cc:378] => Image sees 2240 / 4044 points\n",
      "I20241222 12:50:20.203282 140429661689536 incremental_mapper.cc:375] Registering image #27 (27)\n",
      "I20241222 12:50:20.203303 140429661689536 incremental_mapper.cc:378] => Image sees 2010 / 3519 points\n",
      "I20241222 12:50:21.152027 140429661689536 incremental_mapper.cc:375] Registering image #28 (28)\n",
      "I20241222 12:50:21.152046 140429661689536 incremental_mapper.cc:378] => Image sees 2364 / 3245 points\n",
      "I20241222 12:50:21.494168 140429661689536 incremental_mapper.cc:41] Retriangulation and Global bundle adjustment\n",
      "I20241222 12:50:22.166128 140429661689536 incremental_mapper.cc:375] Registering image #22 (29)\n",
      "I20241222 12:50:22.166148 140429661689536 incremental_mapper.cc:378] => Image sees 2377 / 3161 points\n",
      "I20241222 12:50:23.141353 140429661689536 incremental_mapper.cc:375] Registering image #21 (30)\n",
      "I20241222 12:50:23.141375 140429661689536 incremental_mapper.cc:378] => Image sees 2623 / 3621 points\n",
      "I20241222 12:50:24.084853 140429661689536 incremental_mapper.cc:375] Registering image #26 (31)\n",
      "I20241222 12:50:24.084885 140429661689536 incremental_mapper.cc:378] => Image sees 2777 / 3982 points\n",
      "I20241222 12:50:24.532596 140429661689536 incremental_mapper.cc:41] Retriangulation and Global bundle adjustment\n",
      "I20241222 12:50:25.315838 140429661689536 incremental_mapper.cc:375] Registering image #20 (32)\n",
      "I20241222 12:50:25.315856 140429661689536 incremental_mapper.cc:378] => Image sees 2774 / 3783 points\n",
      "I20241222 12:50:25.848120 140429661689536 incremental_mapper.cc:375] Registering image #31 (33)\n",
      "I20241222 12:50:25.848140 140429661689536 incremental_mapper.cc:378] => Image sees 2540 / 3469 points\n",
      "I20241222 12:50:26.843654 140429661689536 incremental_mapper.cc:375] Registering image #16 (34)\n",
      "I20241222 12:50:26.843675 140429661689536 incremental_mapper.cc:378] => Image sees 2373 / 2953 points\n",
      "I20241222 12:50:27.804781 140429661689536 incremental_mapper.cc:375] Registering image #15 (35)\n",
      "I20241222 12:50:27.804803 140429661689536 incremental_mapper.cc:378] => Image sees 2380 / 3372 points\n",
      "I20241222 12:50:28.572291 140429661689536 incremental_mapper.cc:41] Retriangulation and Global bundle adjustment\n",
      "I20241222 12:50:29.420033 140429661689536 incremental_mapper.cc:375] Registering image #37 (36)\n",
      "I20241222 12:50:29.420054 140429661689536 incremental_mapper.cc:378] => Image sees 2353 / 3177 points\n",
      "I20241222 12:50:29.974135 140429661689536 incremental_mapper.cc:375] Registering image #14 (37)\n",
      "I20241222 12:50:29.974157 140429661689536 incremental_mapper.cc:378] => Image sees 2432 / 3907 points\n",
      "I20241222 12:50:30.436629 140429661689536 incremental_mapper.cc:375] Registering image #19 (38)\n",
      "I20241222 12:50:30.436650 140429661689536 incremental_mapper.cc:378] => Image sees 2445 / 3679 points\n",
      "I20241222 12:50:30.896858 140429661689536 incremental_mapper.cc:375] Registering image #9 (39)\n",
      "I20241222 12:50:30.896878 140429661689536 incremental_mapper.cc:378] => Image sees 2403 / 3492 points\n",
      "I20241222 12:50:31.477242 140429661689536 incremental_mapper.cc:41] Retriangulation and Global bundle adjustment\n",
      "I20241222 12:50:32.448278 140429661689536 incremental_mapper.cc:375] Registering image #8 (40)\n",
      "I20241222 12:50:32.448299 140429661689536 incremental_mapper.cc:378] => Image sees 1959 / 3567 points\n",
      "I20241222 12:50:33.294218 140429661689536 incremental_mapper.cc:375] Registering image #3 (41)\n",
      "I20241222 12:50:33.294237 140429661689536 incremental_mapper.cc:378] => Image sees 2073 / 3339 points\n",
      "I20241222 12:50:34.221424 140429661689536 incremental_mapper.cc:375] Registering image #13 (42)\n",
      "I20241222 12:50:34.221444 140429661689536 incremental_mapper.cc:378] => Image sees 1953 / 3165 points\n",
      "I20241222 12:50:35.165066 140429661689536 incremental_mapper.cc:375] Registering image #17 (43)\n",
      "I20241222 12:50:35.165086 140429661689536 incremental_mapper.cc:378] => Image sees 1689 / 3912 points\n",
      "I20241222 12:50:36.024765 140429661689536 incremental_mapper.cc:41] Retriangulation and Global bundle adjustment\n",
      "I20241222 12:50:37.037366 140429661689536 incremental_mapper.cc:375] Registering image #18 (44)\n",
      "I20241222 12:50:37.037387 140429661689536 incremental_mapper.cc:378] => Image sees 1899 / 3810 points\n",
      "I20241222 12:50:37.920671 140429661689536 incremental_mapper.cc:375] Registering image #4 (45)\n",
      "I20241222 12:50:37.920690 140429661689536 incremental_mapper.cc:378] => Image sees 1892 / 2745 points\n",
      "I20241222 12:50:38.774841 140429661689536 incremental_mapper.cc:375] Registering image #33 (46)\n",
      "I20241222 12:50:38.774860 140429661689536 incremental_mapper.cc:378] => Image sees 1843 / 2903 points\n",
      "I20241222 12:50:39.594941 140429661689536 incremental_mapper.cc:375] Registering image #66 (47)\n",
      "I20241222 12:50:39.594961 140429661689536 incremental_mapper.cc:378] => Image sees 1909 / 3347 points\n",
      "I20241222 12:50:40.457947 140429661689536 incremental_mapper.cc:375] Registering image #7 (48)\n",
      "I20241222 12:50:40.457968 140429661689536 incremental_mapper.cc:378] => Image sees 2111 / 3420 points\n",
      "I20241222 12:50:41.351119 140429661689536 incremental_mapper.cc:41] Retriangulation and Global bundle adjustment\n",
      "I20241222 12:50:42.481110 140429661689536 incremental_mapper.cc:375] Registering image #23 (49)\n",
      "I20241222 12:50:42.481149 140429661689536 incremental_mapper.cc:378] => Image sees 2293 / 3251 points\n",
      "I20241222 12:50:43.418407 140429661689536 incremental_mapper.cc:375] Registering image #42 (50)\n",
      "I20241222 12:50:43.418429 140429661689536 incremental_mapper.cc:378] => Image sees 2000 / 2456 points\n",
      "I20241222 12:50:44.167989 140429661689536 incremental_mapper.cc:375] Registering image #65 (51)\n",
      "I20241222 12:50:44.168011 140429661689536 incremental_mapper.cc:378] => Image sees 2009 / 3531 points\n",
      "I20241222 12:50:45.022370 140429661689536 incremental_mapper.cc:375] Registering image #10 (52)\n",
      "I20241222 12:50:45.022389 140429661689536 incremental_mapper.cc:378] => Image sees 1591 / 3178 points\n",
      "I20241222 12:50:45.917400 140429661689536 incremental_mapper.cc:375] Registering image #11 (53)\n",
      "I20241222 12:50:45.917420 140429661689536 incremental_mapper.cc:378] => Image sees 2225 / 3206 points\n",
      "I20241222 12:50:46.858683 140429661689536 incremental_mapper.cc:41] Retriangulation and Global bundle adjustment\n",
      "I20241222 12:50:48.485673 140429661689536 incremental_mapper.cc:375] Registering image #25 (54)\n",
      "I20241222 12:50:48.485692 140429661689536 incremental_mapper.cc:378] => Image sees 1629 / 3570 points\n",
      "I20241222 12:50:49.276845 140429661689536 incremental_mapper.cc:375] Registering image #24 (55)\n",
      "I20241222 12:50:49.276864 140429661689536 incremental_mapper.cc:378] => Image sees 2079 / 3549 points\n",
      "I20241222 12:50:50.085001 140429661689536 incremental_mapper.cc:375] Registering image #36 (56)\n",
      "I20241222 12:50:50.085021 140429661689536 incremental_mapper.cc:378] => Image sees 1357 / 3476 points\n",
      "I20241222 12:50:50.847318 140429661689536 incremental_mapper.cc:375] Registering image #41 (57)\n",
      "I20241222 12:50:50.847339 140429661689536 incremental_mapper.cc:378] => Image sees 1456 / 2482 points\n",
      "I20241222 12:50:51.638284 140429661689536 incremental_mapper.cc:375] Registering image #35 (58)\n",
      "I20241222 12:50:51.638302 140429661689536 incremental_mapper.cc:378] => Image sees 1982 / 3398 points\n",
      "I20241222 12:50:52.533450 140429661689536 incremental_mapper.cc:375] Registering image #30 (59)\n",
      "I20241222 12:50:52.533470 140429661689536 incremental_mapper.cc:378] => Image sees 1855 / 3463 points\n",
      "I20241222 12:50:53.313949 140429661689536 incremental_mapper.cc:41] Retriangulation and Global bundle adjustment\n",
      "I20241222 12:50:55.041232 140429661689536 incremental_mapper.cc:375] Registering image #29 (60)\n",
      "I20241222 12:50:55.041273 140429661689536 incremental_mapper.cc:378] => Image sees 2436 / 3350 points\n",
      "I20241222 12:50:55.917425 140429661689536 incremental_mapper.cc:375] Registering image #12 (61)\n",
      "I20241222 12:50:55.917445 140429661689536 incremental_mapper.cc:378] => Image sees 1422 / 3645 points\n",
      "I20241222 12:50:56.660601 140429661689536 incremental_mapper.cc:375] Registering image #6 (62)\n",
      "I20241222 12:50:56.660620 140429661689536 incremental_mapper.cc:378] => Image sees 1136 / 2817 points\n",
      "I20241222 12:50:57.296476 140429661689536 incremental_mapper.cc:375] Registering image #5 (63)\n",
      "I20241222 12:50:57.296495 140429661689536 incremental_mapper.cc:378] => Image sees 1359 / 2858 points\n",
      "I20241222 12:50:57.988873 140429661689536 incremental_mapper.cc:375] Registering image #52 (64)\n",
      "I20241222 12:50:57.988892 140429661689536 incremental_mapper.cc:378] => Image sees 1528 / 2855 points\n",
      "I20241222 12:50:58.693945 140429661689536 incremental_mapper.cc:375] Registering image #2 (65)\n",
      "I20241222 12:50:58.693965 140429661689536 incremental_mapper.cc:378] => Image sees 1451 / 3704 points\n",
      "I20241222 12:50:59.249584 140429661689536 incremental_mapper.cc:41] Retriangulation and Global bundle adjustment\n",
      "I20241222 12:51:01.176952 140429661689536 incremental_mapper.cc:375] Registering image #1 (66)\n",
      "I20241222 12:51:01.176972 140429661689536 incremental_mapper.cc:378] => Image sees 1123 / 2113 points\n",
      "I20241222 12:51:01.773360 140429661689536 incremental_mapper.cc:41] Retriangulation and Global bundle adjustment\n",
      "I20241222 12:51:03.636992 140429661689536 timer.cc:91] Elapsed time: 1.156 [minutes]\n",
      "[2024/12/22 12:51:03 hloc INFO] Reconstructed 1 model(s).\n",
      "[2024/12/22 12:51:03 hloc INFO] Largest model is #0 with 66 images.\n",
      "[2024/12/22 12:51:03 hloc INFO] Reconstruction statistics:\n",
      "Reconstruction:\n",
      "\tnum_reg_images = 66\n",
      "\tnum_cameras = 66\n",
      "\tnum_points3D = 33559\n",
      "\tnum_observations = 202787\n",
      "\tmean_track_length = 6.0427\n",
      "\tmean_observations_per_image = 3072.53\n",
      "\tmean_reprojection_error = 1.03873\n",
      "\tnum_input_images = 66\n"
     ]
    }
   ],
   "source": [
    "model = reconstruction.main(sfm_dir, images, sfm_pairs, feature_path, match_path, image_list=db_image_list)"
   ]
  }
 ],
 "metadata": {
  "kernelspec": {
   "display_name": "hloc",
   "language": "python",
   "name": "python3"
  },
  "language_info": {
   "codemirror_mode": {
    "name": "ipython",
    "version": 3
   },
   "file_extension": ".py",
   "mimetype": "text/x-python",
   "name": "python",
   "nbconvert_exporter": "python",
   "pygments_lexer": "ipython3",
   "version": "3.8.20"
  }
 },
 "nbformat": 4,
 "nbformat_minor": 2
}
